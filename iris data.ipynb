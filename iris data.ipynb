{
 "cells": [
  {
   "cell_type": "code",
   "execution_count": 1,
   "id": "c495f692",
   "metadata": {},
   "outputs": [
    {
     "name": "stdout",
     "output_type": "stream",
     "text": [
      "['setosa' 'versicolor' 'virginica']\n",
      "Class label =  0\n",
      "['sepal length (cm)', 'sepal width (cm)', 'petal length (cm)', 'petal width (cm)']\n",
      "[5.1 3.5 1.4 0.2]\n"
     ]
    }
   ],
   "source": [
    "# Import dataset and classes needed in this example:\n",
    "from sklearn.datasets import load_iris\n",
    "from sklearn.model_selection import train_test_split\n",
    "\n",
    "# Import Gaussian Naive Bayes classifier:\n",
    "from sklearn.naive_bayes import GaussianNB\n",
    "from sklearn.metrics import accuracy_score\n",
    "\n",
    "# Load dataset: \n",
    "data = load_iris()\n",
    "\n",
    "# Organize data:\n",
    "label_names = data['target_names']\n",
    "labels = data['target']\n",
    "feature_names = data['feature_names']\n",
    "features = data['data']\n",
    "\n",
    "# Print data:\n",
    "print(label_names)\n",
    "print('Class label = ', labels[0])\n",
    "print(feature_names)\n",
    "print(features[0])"
   ]
  },
  {
   "cell_type": "code",
   "execution_count": 2,
   "id": "d957fc51",
   "metadata": {},
   "outputs": [
    {
     "name": "stdout",
     "output_type": "stream",
     "text": [
      "[1 0 2 1 1 0 1 2 1 1 2 0 0 0 0 2 2 1 1 2 0 2 0 2 2 2 2 2 0 0 0 0 1 0 0 2 1\n",
      " 0 0 0 2 1 1 0 0 1 1 2 1 2]\n",
      "0.96\n"
     ]
    }
   ],
   "source": [
    "# Split dataset into random train and test subsets:\n",
    "train, test, train_labels, test_labels = train_test_split(features, labels, test_size=0.33, random_state=42)\n",
    "\n",
    "# Initialize classifier:\n",
    "gnb = GaussianNB()\n",
    "\n",
    "# Train the classifier:\n",
    "model = gnb.fit(train, train_labels)\n",
    "# Make predictions with the classifier:\n",
    "predictive_labels = gnb.predict(test)\n",
    "print(predictive_labels)\n",
    "\n",
    "# Evaluate label (subsets) accuracy:\n",
    "print(accuracy_score(test_labels, predictive_labels))"
   ]
  },
  {
   "cell_type": "code",
   "execution_count": null,
   "id": "b64363fd",
   "metadata": {},
   "outputs": [],
   "source": []
  }
 ],
 "metadata": {
  "kernelspec": {
   "display_name": "Python 3 (ipykernel)",
   "language": "python",
   "name": "python3"
  },
  "language_info": {
   "codemirror_mode": {
    "name": "ipython",
    "version": 3
   },
   "file_extension": ".py",
   "mimetype": "text/x-python",
   "name": "python",
   "nbconvert_exporter": "python",
   "pygments_lexer": "ipython3",
   "version": "3.8.1"
  }
 },
 "nbformat": 4,
 "nbformat_minor": 5
}
